{
 "metadata": {
  "name": "",
  "signature": "sha256:8ff35a838f92f47cbc9fc018d90cb8bea0c96db01560bd1f61f1a5fdc6b6e848"
 },
 "nbformat": 3,
 "nbformat_minor": 0,
 "worksheets": [
  {
   "cells": [
    {
     "cell_type": "code",
     "collapsed": false,
     "input": [
      "import pandas as pd\n",
      "import sys\n",
      "sys.path.append(u'/Users/tutu/personal/git/salesman/app')\n",
      "import salesman.collaborative_filtering as cf"
     ],
     "language": "python",
     "metadata": {},
     "outputs": [],
     "prompt_number": 11
    },
    {
     "cell_type": "code",
     "collapsed": false,
     "input": [
      "data = pd.read_csv('/Users/tutu/personal/git/salesman/app/salesman/data/sample.csv', sep=',')\n",
      "data.head()"
     ],
     "language": "python",
     "metadata": {},
     "outputs": [
      {
       "html": [
        "<div style=\"max-height:1000px;max-width:1500px;overflow:auto;\">\n",
        "<table border=\"1\" class=\"dataframe\">\n",
        "  <thead>\n",
        "    <tr style=\"text-align: right;\">\n",
        "      <th></th>\n",
        "      <th>user_id</th>\n",
        "      <th>user_name</th>\n",
        "      <th>item_id</th>\n",
        "      <th>item_name</th>\n",
        "      <th>rating</th>\n",
        "    </tr>\n",
        "  </thead>\n",
        "  <tbody>\n",
        "    <tr>\n",
        "      <th>0</th>\n",
        "      <td>1</td>\n",
        "      <td>Arthur</td>\n",
        "      <td>1</td>\n",
        "      <td>Music #1</td>\n",
        "      <td>5</td>\n",
        "    </tr>\n",
        "    <tr>\n",
        "      <th>1</th>\n",
        "      <td>1</td>\n",
        "      <td>Arthur</td>\n",
        "      <td>2</td>\n",
        "      <td>Music #2</td>\n",
        "      <td>4</td>\n",
        "    </tr>\n",
        "    <tr>\n",
        "      <th>2</th>\n",
        "      <td>1</td>\n",
        "      <td>Arthur</td>\n",
        "      <td>7</td>\n",
        "      <td>Music #7</td>\n",
        "      <td>5</td>\n",
        "    </tr>\n",
        "    <tr>\n",
        "      <th>3</th>\n",
        "      <td>1</td>\n",
        "      <td>Arthur</td>\n",
        "      <td>4</td>\n",
        "      <td>Music #4</td>\n",
        "      <td>1</td>\n",
        "    </tr>\n",
        "    <tr>\n",
        "      <th>4</th>\n",
        "      <td>1</td>\n",
        "      <td>Arthur</td>\n",
        "      <td>9</td>\n",
        "      <td>Music #9</td>\n",
        "      <td>1</td>\n",
        "    </tr>\n",
        "  </tbody>\n",
        "</table>\n",
        "</div>"
       ],
       "metadata": {},
       "output_type": "pyout",
       "prompt_number": 12,
       "text": [
        "   user_id user_name  item_id item_name  rating\n",
        "0        1    Arthur        1  Music #1       5\n",
        "1        1    Arthur        2  Music #2       4\n",
        "2        1    Arthur        7  Music #7       5\n",
        "3        1    Arthur        4  Music #4       1\n",
        "4        1    Arthur        9  Music #9       1"
       ]
      }
     ],
     "prompt_number": 12
    },
    {
     "cell_type": "code",
     "collapsed": false,
     "input": [
      "users = set(data['user_id'])\n",
      "mean_rate = {}\n",
      "for user in users:\n",
      "    detail_data = data[data['user_id'] == user]['rating']\n",
      "    mean_rate[user] = sum(detail_data) / len(detail_data)\n",
      "print mean_rate\n",
      "print mean_rate[1]"
     ],
     "language": "python",
     "metadata": {},
     "outputs": [
      {
       "output_type": "stream",
       "stream": "stdout",
       "text": [
        "{1: 3.2000000000000002, 2: 3.1428571428571428, 3: 2.8333333333333335, 4: 3.0, 5: 3.3333333333333335, 6: 3.0}\n",
        "3.2\n"
       ]
      }
     ],
     "prompt_number": 13
    },
    {
     "cell_type": "code",
     "collapsed": false,
     "input": [
      "algorithm = cf.UserBased()\n",
      "algorithm.user_label = 'user_id'\n",
      "algorithm.item_label = 'item_id'\n",
      "algorithm.score_label = 'rating'\n",
      "algorithm.data = data\n",
      "algorithm.items = set(data[algorithm.item_label])\n",
      "algorithm.users = set(data[algorithm.user_label])\n",
      "algorithm.means = mean_rate"
     ],
     "language": "python",
     "metadata": {},
     "outputs": [],
     "prompt_number": 14
    },
    {
     "cell_type": "code",
     "collapsed": false,
     "input": [
      "algorithm._retrieve_not_rated_items(1)"
     ],
     "language": "python",
     "metadata": {},
     "outputs": [
      {
       "metadata": {},
       "output_type": "pyout",
       "prompt_number": 15,
       "text": [
        "[8, 10, 3, 5, 6]"
       ]
      }
     ],
     "prompt_number": 15
    },
    {
     "cell_type": "code",
     "collapsed": false,
     "input": [
      "similar_users = algorithm._retrieve_similar_users(1)\n",
      "down_equation = sum(similar_users['score'])\n",
      "# similar_users = similar_users[similar_users['score'] > 0.5]\n",
      "similar_users"
     ],
     "language": "python",
     "metadata": {},
     "outputs": [
      {
       "html": [
        "<div style=\"max-height:1000px;max-width:1500px;overflow:auto;\">\n",
        "<table border=\"1\" class=\"dataframe\">\n",
        "  <thead>\n",
        "    <tr style=\"text-align: right;\">\n",
        "      <th></th>\n",
        "      <th>user_id</th>\n",
        "      <th>similar_id</th>\n",
        "      <th>score</th>\n",
        "    </tr>\n",
        "  </thead>\n",
        "  <tbody>\n",
        "    <tr>\n",
        "      <th>4</th>\n",
        "      <td>1</td>\n",
        "      <td>6</td>\n",
        "      <td>1.000000</td>\n",
        "    </tr>\n",
        "    <tr>\n",
        "      <th>2</th>\n",
        "      <td>1</td>\n",
        "      <td>4</td>\n",
        "      <td>0.995037</td>\n",
        "    </tr>\n",
        "    <tr>\n",
        "      <th>0</th>\n",
        "      <td>1</td>\n",
        "      <td>2</td>\n",
        "      <td>0.801120</td>\n",
        "    </tr>\n",
        "    <tr>\n",
        "      <th>3</th>\n",
        "      <td>1</td>\n",
        "      <td>5</td>\n",
        "      <td>-0.917238</td>\n",
        "    </tr>\n",
        "    <tr>\n",
        "      <th>1</th>\n",
        "      <td>1</td>\n",
        "      <td>3</td>\n",
        "      <td>-0.935253</td>\n",
        "    </tr>\n",
        "  </tbody>\n",
        "</table>\n",
        "</div>"
       ],
       "metadata": {},
       "output_type": "pyout",
       "prompt_number": 16,
       "text": [
        "   user_id  similar_id     score\n",
        "4        1           6  1.000000\n",
        "2        1           4  0.995037\n",
        "0        1           2  0.801120\n",
        "3        1           5 -0.917238\n",
        "1        1           3 -0.935253"
       ]
      }
     ],
     "prompt_number": 16
    },
    {
     "cell_type": "code",
     "collapsed": false,
     "input": [
      "algorithm._predict(1, similar_users, 3)"
     ],
     "language": "python",
     "metadata": {},
     "outputs": [
      {
       "metadata": {},
       "output_type": "pyout",
       "prompt_number": 17,
       "text": [
        "6.1387230659533492"
       ]
      }
     ],
     "prompt_number": 17
    },
    {
     "cell_type": "code",
     "collapsed": false,
     "input": [
      "model = algorithm.calculate(data=data, user_label='user_id', item_label='item_id', score_label='rating')"
     ],
     "language": "python",
     "metadata": {},
     "outputs": [],
     "prompt_number": 18
    },
    {
     "cell_type": "code",
     "collapsed": false,
     "input": [
      "model.get_recommendations(1)"
     ],
     "language": "python",
     "metadata": {},
     "outputs": [
      {
       "html": [
        "<div style=\"max-height:1000px;max-width:1500px;overflow:auto;\">\n",
        "<table border=\"1\" class=\"dataframe\">\n",
        "  <thead>\n",
        "    <tr style=\"text-align: right;\">\n",
        "      <th></th>\n",
        "      <th>user_id</th>\n",
        "      <th>item_id</th>\n",
        "      <th>predicted</th>\n",
        "    </tr>\n",
        "  </thead>\n",
        "  <tbody>\n",
        "    <tr>\n",
        "      <th>3</th>\n",
        "      <td>1</td>\n",
        "      <td>6</td>\n",
        "      <td>18.207060</td>\n",
        "    </tr>\n",
        "    <tr>\n",
        "      <th>1</th>\n",
        "      <td>1</td>\n",
        "      <td>10</td>\n",
        "      <td>9.795044</td>\n",
        "    </tr>\n",
        "    <tr>\n",
        "      <th>0</th>\n",
        "      <td>1</td>\n",
        "      <td>8</td>\n",
        "      <td>7.921750</td>\n",
        "    </tr>\n",
        "    <tr>\n",
        "      <th>2</th>\n",
        "      <td>1</td>\n",
        "      <td>3</td>\n",
        "      <td>6.138723</td>\n",
        "    </tr>\n",
        "  </tbody>\n",
        "</table>\n",
        "</div>"
       ],
       "metadata": {},
       "output_type": "pyout",
       "prompt_number": 19,
       "text": [
        "   user_id  item_id  predicted\n",
        "3        1        6  18.207060\n",
        "1        1       10   9.795044\n",
        "0        1        8   7.921750\n",
        "2        1        3   6.138723"
       ]
      }
     ],
     "prompt_number": 19
    },
    {
     "cell_type": "code",
     "collapsed": false,
     "input": [
      "model.to_csv('/Users/tutu/personal/git/salesman/app/salesman/data/cf.csv')"
     ],
     "language": "python",
     "metadata": {},
     "outputs": [],
     "prompt_number": 10
    },
    {
     "cell_type": "code",
     "collapsed": false,
     "input": [],
     "language": "python",
     "metadata": {},
     "outputs": []
    }
   ],
   "metadata": {}
  }
 ]
}