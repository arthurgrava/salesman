{
 "metadata": {
  "name": "",
  "signature": "sha256:5036f9e25d9937d321ba8f86e795ab27f2705a5447b0ad4002204d7c67f56079"
 },
 "nbformat": 3,
 "nbformat_minor": 0,
 "worksheets": [
  {
   "cells": [
    {
     "cell_type": "code",
     "collapsed": false,
     "input": [
      "with open('/Users/tutu/personal/git/data/wos_selected.csv', 'r') as rd:\n",
      "    with open('/Users/tutu/personal/git/data/wos_selected_abc.csv', 'w') as wd:\n",
      "        for line in rd:\n",
      "            if len(line.split('\\t')) > 1:\n",
      "                wd.write(line)\n",
      "        wd.flush()"
     ],
     "language": "python",
     "metadata": {},
     "outputs": [],
     "prompt_number": 2
    },
    {
     "cell_type": "code",
     "collapsed": false,
     "input": [
      "def write_line(line, ws):\n",
      "    content = line.split('\\t')\n",
      "    authors = content[2].split(';')\n",
      "    citations = content[10].split(';')\n",
      "    for author in authors:\n",
      "        tmp = author.strip().lower().replace(',', '')\n",
      "        for cited in citations:\n",
      "            if 'doi' in cited:\n",
      "                ws.write('{0}\\t{1}\\t{2}\\n'.format(tmp, _replace(cited.split('doi')[1].strip()), 1))\n",
      "            else:\n",
      "                ws.write('{0}\\t{1}\\t{2}\\n'.format(tmp, _replace(cited.strip()), 1))\n",
      "\n",
      "def _replace(word):\n",
      "    return word.replace('[', '').replace(']', '')\n",
      "                \n",
      "with open('/Users/tutu/personal/git/data/wos_selected.csv','r') as rd:\n",
      "    with open('/Users/tutu/personal/git/data/authors_articles_referenced.csv', 'w') as ws:\n",
      "        l = 1\n",
      "        for line in rd:\n",
      "            if not l == 1:\n",
      "                write_line(line, ws)\n",
      "                ws.flush()\n",
      "            else:\n",
      "                l += 1\n",
      "                ws.write('author\\treference\\tscore\\n')"
     ],
     "language": "python",
     "metadata": {},
     "outputs": [],
     "prompt_number": 1
    },
    {
     "cell_type": "code",
     "collapsed": false,
     "input": [],
     "language": "python",
     "metadata": {},
     "outputs": []
    }
   ],
   "metadata": {}
  }
 ]
}