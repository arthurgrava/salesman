{
 "metadata": {
  "name": "",
  "signature": "sha256:0e04162a9537479e59750f316fe90072ea5c954600d30ba1a16bc2cb252a396f"
 },
 "nbformat": 3,
 "nbformat_minor": 0,
 "worksheets": [
  {
   "cells": [
    {
     "cell_type": "code",
     "collapsed": false,
     "input": [
      "with open('/Users/tutu/personal/git/data/wos_selected.csv', 'r') as rd:\n",
      "    with open('/Users/tutu/personal/git/data/wos_selected_abc.csv', 'w') as wd:\n",
      "        for line in rd:\n",
      "            if len(line.split('\\t')) > 1:\n",
      "                wd.write(line)\n",
      "        wd.flush()"
     ],
     "language": "python",
     "metadata": {},
     "outputs": [],
     "prompt_number": 2
    },
    {
     "cell_type": "code",
     "collapsed": false,
     "input": [
      "def write_line(line, ws):\n",
      "    content = line.split('\\t')\n",
      "    authors = content[2].split(';')\n",
      "    citations = content[10].split(';')\n",
      "    for author in authors:\n",
      "        tmp = author.strip().lower().replace(',', '')\n",
      "        for cited in citations:\n",
      "            if 'doi' in cited:\n",
      "                ws.write('{0},{1},{2}\\n'.format(tmp, cited.split('doi')[1].strip(), 1))\n",
      "            else:\n",
      "                ws.write('{0},{1},{2}\\n'.format(tmp, cited.strip(), 1))\n",
      "\n",
      "with open('/Users/tutu/personal/git/data/wos_selected.csv','r') as rd:\n",
      "    with open('/Users/tutu/personal/git/data/authors_articles_referenced.csv', 'a') as ws:\n",
      "        for line in rd:\n",
      "            write_line(line, ws)\n",
      "            ws.flush()"
     ],
     "language": "python",
     "metadata": {},
     "outputs": [],
     "prompt_number": 3
    },
    {
     "cell_type": "code",
     "collapsed": false,
     "input": [],
     "language": "python",
     "metadata": {},
     "outputs": []
    }
   ],
   "metadata": {}
  }
 ]
}