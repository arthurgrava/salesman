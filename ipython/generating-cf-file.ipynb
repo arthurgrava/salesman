{
 "metadata": {
  "name": "",
  "signature": "sha256:401bb4be94ca4ea6c2aed9b074b17dcb30d18b85215ea6eed2ab9be2a5e7437d"
 },
 "nbformat": 3,
 "nbformat_minor": 0,
 "worksheets": [
  {
   "cells": [
    {
     "cell_type": "code",
     "collapsed": false,
     "input": [
      "import pandas as pd"
     ],
     "language": "python",
     "metadata": {},
     "outputs": [],
     "prompt_number": 1
    },
    {
     "cell_type": "code",
     "collapsed": false,
     "input": [
      "data = pd.read_csv('/Users/tutu/personal/git/data/wos_selected.csv', sep='\\t', dtype=str)\n",
      "data.head(3)"
     ],
     "language": "python",
     "metadata": {},
     "outputs": [
      {
       "html": [
        "<div style=\"max-height:1000px;max-width:1500px;overflow:auto;\">\n",
        "<table border=\"1\" class=\"dataframe\">\n",
        "  <thead>\n",
        "    <tr style=\"text-align: right;\">\n",
        "      <th></th>\n",
        "      <th>wos_id</th>\n",
        "      <th>doi</th>\n",
        "      <th>authors</th>\n",
        "      <th>type</th>\n",
        "      <th>year</th>\n",
        "      <th>language</th>\n",
        "      <th>title</th>\n",
        "      <th>area</th>\n",
        "      <th>publisher</th>\n",
        "      <th>publisher_type</th>\n",
        "      <th>citations</th>\n",
        "    </tr>\n",
        "  </thead>\n",
        "  <tbody>\n",
        "    <tr>\n",
        "      <th>0</th>\n",
        "      <td>WOS:000182822300066</td>\n",
        "      <td>10.1063/1.1557355</td>\n",
        "      <td>Cornejo, DR;  Azevedo, A;  Rezende, SM</td>\n",
        "      <td>Article; Proceedings Paper</td>\n",
        "      <td>2003</td>\n",
        "      <td>English</td>\n",
        "      <td>Hysteresis modeling of anisotropic and isotrop...</td>\n",
        "      <td>Physics</td>\n",
        "      <td>AMER INST PHYSICS</td>\n",
        "      <td>J</td>\n",
        "      <td>cornejo dr, 2000, j appl phys, v87, p4741, doi...</td>\n",
        "    </tr>\n",
        "    <tr>\n",
        "      <th>1</th>\n",
        "      <td>WOS:000182822300093</td>\n",
        "      <td>10.1063/1.1555154</td>\n",
        "      <td>Tedesco, AC;  Oliveira, DM;  Lacava, ZGM;  Aze...</td>\n",
        "      <td>Article; Proceedings Paper</td>\n",
        "      <td>2003</td>\n",
        "      <td>English</td>\n",
        "      <td>Determination of binding constant K-b of bioco...</td>\n",
        "      <td>Physics</td>\n",
        "      <td>AMER INST PHYSICS</td>\n",
        "      <td>J</td>\n",
        "      <td>aveline bm, 1995, j photoch photobio b, v30, p...</td>\n",
        "    </tr>\n",
        "    <tr>\n",
        "      <th>2</th>\n",
        "      <td>WOS:000182822300094</td>\n",
        "      <td>10.1063/1.1558665</td>\n",
        "      <td>Kuckelhaus, S;  Garcia, VAP;  Lacava, LM;  Aze...</td>\n",
        "      <td>Article; Proceedings Paper</td>\n",
        "      <td>2003</td>\n",
        "      <td>English</td>\n",
        "      <td>Biological investigation of a citrate-coated c...</td>\n",
        "      <td>Physics</td>\n",
        "      <td>AMER INST PHYSICS</td>\n",
        "      <td>J</td>\n",
        "      <td>fahlvik ak, 1993, jmri-j magn reson im, v3, p1...</td>\n",
        "    </tr>\n",
        "  </tbody>\n",
        "</table>\n",
        "</div>"
       ],
       "metadata": {},
       "output_type": "pyout",
       "prompt_number": 3,
       "text": [
        "                wos_id                doi  \\\n",
        "0  WOS:000182822300066  10.1063/1.1557355   \n",
        "1  WOS:000182822300093  10.1063/1.1555154   \n",
        "2  WOS:000182822300094  10.1063/1.1558665   \n",
        "\n",
        "                                             authors  \\\n",
        "0             Cornejo, DR;  Azevedo, A;  Rezende, SM   \n",
        "1  Tedesco, AC;  Oliveira, DM;  Lacava, ZGM;  Aze...   \n",
        "2  Kuckelhaus, S;  Garcia, VAP;  Lacava, LM;  Aze...   \n",
        "\n",
        "                         type  year language  \\\n",
        "0  Article; Proceedings Paper  2003  English   \n",
        "1  Article; Proceedings Paper  2003  English   \n",
        "2  Article; Proceedings Paper  2003  English   \n",
        "\n",
        "                                               title     area  \\\n",
        "0  Hysteresis modeling of anisotropic and isotrop...  Physics   \n",
        "1  Determination of binding constant K-b of bioco...  Physics   \n",
        "2  Biological investigation of a citrate-coated c...  Physics   \n",
        "\n",
        "           publisher publisher_type  \\\n",
        "0  AMER INST PHYSICS              J   \n",
        "1  AMER INST PHYSICS              J   \n",
        "2  AMER INST PHYSICS              J   \n",
        "\n",
        "                                           citations  \n",
        "0  cornejo dr, 2000, j appl phys, v87, p4741, doi...  \n",
        "1  aveline bm, 1995, j photoch photobio b, v30, p...  \n",
        "2  fahlvik ak, 1993, jmri-j magn reson im, v3, p1...  "
       ]
      }
     ],
     "prompt_number": 3
    },
    {
     "cell_type": "code",
     "collapsed": false,
     "input": [
      "i = 1\n",
      "for index, row in data.iterrows():\n",
      "    if i < 3:\n",
      "        print row\n",
      "        i += 1"
     ],
     "language": "python",
     "metadata": {},
     "outputs": [
      {
       "output_type": "stream",
       "stream": "stdout",
       "text": [
        "wos_id                                          WOS:000182822300066\n",
        "doi                                               10.1063/1.1557355\n",
        "authors                      Cornejo, DR;  Azevedo, A;  Rezende, SM\n",
        "type                                     Article; Proceedings Paper\n",
        "year                                                           2003\n",
        "language                                                    English\n",
        "title             Hysteresis modeling of anisotropic and isotrop...\n",
        "area                                                        Physics\n",
        "publisher                                         AMER INST PHYSICS\n",
        "publisher_type                                                    J\n",
        "citations         cornejo dr, 2000, j appl phys, v87, p4741, doi...\n",
        "Name: 0, dtype: object\n",
        "wos_id                                          WOS:000182822300093\n",
        "doi                                               10.1063/1.1555154\n",
        "authors           Tedesco, AC;  Oliveira, DM;  Lacava, ZGM;  Aze...\n",
        "type                                     Article; Proceedings Paper\n",
        "year                                                           2003\n",
        "language                                                    English\n",
        "title             Determination of binding constant K-b of bioco...\n",
        "area                                                        Physics\n",
        "publisher                                         AMER INST PHYSICS\n",
        "publisher_type                                                    J\n",
        "citations         aveline bm, 1995, j photoch photobio b, v30, p...\n",
        "Name: 1, dtype: object\n"
       ]
      }
     ],
     "prompt_number": 10
    },
    {
     "cell_type": "code",
     "collapsed": false,
     "input": [
      "t1 = row['authors'].split(';')[1].strip().lower().replace(',', '')\n",
      "t2 = row['citations'].split(';')[1].split('doi')[1].strip()\n",
      "\n",
      "tst = pd.DataFrame(columns=['author', 'reference', 'score'])\n",
      "tst.loc[0] = [t1, t2, 1]\n",
      "tst.loc[0] = [t1, t2, 1]\n",
      "tst.head()"
     ],
     "language": "python",
     "metadata": {},
     "outputs": [
      {
       "html": [
        "<div style=\"max-height:1000px;max-width:1500px;overflow:auto;\">\n",
        "<table border=\"1\" class=\"dataframe\">\n",
        "  <thead>\n",
        "    <tr style=\"text-align: right;\">\n",
        "      <th></th>\n",
        "      <th>author</th>\n",
        "      <th>reference</th>\n",
        "      <th>score</th>\n",
        "    </tr>\n",
        "  </thead>\n",
        "  <tbody>\n",
        "    <tr>\n",
        "      <th>0</th>\n",
        "      <td>magatao snb</td>\n",
        "      <td>10.1021/ie900685v</td>\n",
        "      <td>1</td>\n",
        "    </tr>\n",
        "  </tbody>\n",
        "</table>\n",
        "</div>"
       ],
       "metadata": {},
       "output_type": "pyout",
       "prompt_number": 29,
       "text": [
        "        author          reference  score\n",
        "0  magatao snb  10.1021/ie900685v      1"
       ]
      }
     ],
     "prompt_number": 29
    },
    {
     "cell_type": "code",
     "collapsed": false,
     "input": [
      "df = pd.DataFrame(columns=['author', 'reference', 'score'])\n",
      "row_index = 0\n",
      "for index, row in data.iterrows():\n",
      "    authors = str(row['authors']).split(';')\n",
      "    citations = str(row['citations']).split(';')\n",
      "    for author in authors:\n",
      "        tmp = author.strip().lower().replace(',', '')\n",
      "        for cited in citations:\n",
      "            if 'doi' in cited:\n",
      "                df.loc[row_index] = [tmp, cited.split('doi')[1].strip(), 1]\n",
      "            else:\n",
      "                df.loc[row_index] = [tmp, cited.strip(), 1]\n",
      "            row_index += 1\n",
      "df.head(3)"
     ],
     "language": "python",
     "metadata": {},
     "outputs": []
    },
    {
     "cell_type": "code",
     "collapsed": false,
     "input": [
      "df.to_csv('/Users/tutu/personal/git/data/authors_citations.csv', sep='\\t', index=False)"
     ],
     "language": "python",
     "metadata": {},
     "outputs": []
    },
    {
     "cell_type": "code",
     "collapsed": false,
     "input": [],
     "language": "python",
     "metadata": {},
     "outputs": []
    }
   ],
   "metadata": {}
  }
 ]
}