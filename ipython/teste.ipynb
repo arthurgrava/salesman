{
 "metadata": {
  "name": "",
  "signature": "sha256:c9921e144b3f1aa66685500e7d1654f4b2c4945f9ee84c8b3d55c01440031f65"
 },
 "nbformat": 3,
 "nbformat_minor": 0,
 "worksheets": [
  {
   "cells": [
    {
     "cell_type": "code",
     "collapsed": false,
     "input": [
      "import graphlab as gl"
     ],
     "language": "python",
     "metadata": {},
     "outputs": [
      {
       "output_type": "stream",
       "stream": "stderr",
       "text": [
        "A newer version of GraphLab Create (v1.5.2) is available! Your current version is v1.1.\n",
        "You can use pip to upgrade the graphlab-create package. For more information see http://graphlab.com/products/create/upgrade."
       ]
      }
     ],
     "prompt_number": 1
    },
    {
     "cell_type": "code",
     "collapsed": false,
     "input": [
      "data = gl.SFrame.read_csv('/Users/tutu/personal/git/data/wos_selected.csv', delimiter='\\t', column_type_hints=[str,str,str,str,str,str,str,str,str,str,str])"
     ],
     "language": "python",
     "metadata": {},
     "outputs": [
      {
       "output_type": "stream",
       "stream": "stderr",
       "text": [
        "[INFO] Start server at: ipc:///tmp/graphlab_server-43265 - Server binary: /Users/tutu/.virtualenvs/shimmer/lib/python2.7/site-packages/graphlab/unity_server - Server log: /tmp/graphlab_server_1438224135.log\n"
       ]
      },
      {
       "output_type": "stream",
       "stream": "stderr",
       "text": [
        "[INFO] GraphLab Server Version: 1.1\n"
       ]
      },
      {
       "html": [
        "<pre>PROGRESS: Unable to parse line \"WOS:000185699000017\t10.1107/S0108270103018481\tHorner, M;  Casagrande, IC;  Fenner, H;  Daniels, J;  Beck, J\tArticle\t2003\tEnglish\t[1,3-Bis(4-nitrophenyl)triazenido](triphenylphosphine)gold(I)\tCrystallography\tBLACKWELL MUNKSGAARD\tJ\tbombieri g, 1976, inorg chem, v15, p2428, doi 10.1021/ic50164a024;brown ld, 1976, inorg chem, v15, p2794, doi 10.1021/ic50165a045;farrugia l. j., 1999, j appl crystallogr, v32, p837, doi doi 10.1107/s0021889899006020;farrugia l.j., 1997, j appl crystallogr, v30, p565, doi doi 10.1107/s0021889897003117;immirzi a, 1980, j chem soc dalton, p1098, doi 10.1039/dt9800001098;immirzi a, 1976, j organomet chem, v118, p355, doi 10.1016/s0022-328x(00)93216-9;kuz'mina lg, 2001, chem commun, p1394, doi 10.1039/b102938j;otwinowski z, 1997, method enzymol, v276, p307, doi 10.1016/s0076-6879(97)76066-x;peregudov as, 1998, inorg chim acta, v280, p238, doi 10.1016/s0020-1693(98)00205-9;peregudov as, 2000, j organomet chem, v597, p164, doi 10.1016/s0022-328x(99)00684-1;zhang dc, 1999, acta crystallogr c, v55, p102, doi 10.1107/s0108270198010415\"</pre>"
       ],
       "metadata": {},
       "output_type": "display_data",
       "text": [
        "PROGRESS: Unable to parse line \"WOS:000185699000017\t10.1107/S0108270103018481\tHorner, M;  Casagrande, IC;  Fenner, H;  Daniels, J;  Beck, J\tArticle\t2003\tEnglish\t[1,3-Bis(4-nitrophenyl)triazenido](triphenylphosphine)gold(I)\tCrystallography\tBLACKWELL MUNKSGAARD\tJ\tbombieri g, 1976, inorg chem, v15, p2428, doi 10.1021/ic50164a024;brown ld, 1976, inorg chem, v15, p2794, doi 10.1021/ic50165a045;farrugia l. j., 1999, j appl crystallogr, v32, p837, doi doi 10.1107/s0021889899006020;farrugia l.j., 1997, j appl crystallogr, v30, p565, doi doi 10.1107/s0021889897003117;immirzi a, 1980, j chem soc dalton, p1098, doi 10.1039/dt9800001098;immirzi a, 1976, j organomet chem, v118, p355, doi 10.1016/s0022-328x(00)93216-9;kuz'mina lg, 2001, chem commun, p1394, doi 10.1039/b102938j;otwinowski z, 1997, method enzymol, v276, p307, doi 10.1016/s0076-6879(97)76066-x;peregudov as, 1998, inorg chim acta, v280, p238, doi 10.1016/s0020-1693(98)00205-9;peregudov as, 2000, j organomet chem, v597, p164, doi 10.1016/s0022-328x(99)00684-1;zhang dc, 1999, acta crystallogr c, v55, p102, doi 10.1107/s0108270198010415\""
       ]
      },
      {
       "html": [
        "<pre>PROGRESS: Unable to parse line \"WOS:000181452700011\t10.1107/S0108270103001914\tLang, ES;  Burrow, RA;  Marques, LD\tArticle\t2003\tEnglish\t[4-Amino-N-(pyrimidin-2-yl)benzene-sulfonamido-kappa N](triphenylphosphine-kappa P)gold(I)\tCrystallography\tBLACKWELL MUNKSGAARD\tJ\tahmad s, 2002, transit metal chem, v27, p177, doi 10.1023/a:1013920208168;baenziger nc, 1976, inorg chem, v15, p1807, doi 10.1021/ic50162a014;baenziger nc, 1983, acta crystallogr c, v39, p1620, doi 10.1107/s0108270183009506;farrugia l.j., 1997, j appl crystallogr, v30, p565, doi doi 10.1107/s0021889897003117;gutierrez l, 2001, inorg chem, v40, p3089, doi 10.1021/ic000869i;kokila mk, 1995, acta crystallogr c, v51, p333, doi 10.1107/s0108270193014180;shaw cf, 1999, chem rev, v99, p2589, doi 10.1021/cr980431o;yuan rx, 2001, j chem soc dalton, p774, doi 10.1039/b100901j\"</pre>"
       ],
       "metadata": {},
       "output_type": "display_data",
       "text": [
        "PROGRESS: Unable to parse line \"WOS:000181452700011\t10.1107/S0108270103001914\tLang, ES;  Burrow, RA;  Marques, LD\tArticle\t2003\tEnglish\t[4-Amino-N-(pyrimidin-2-yl)benzene-sulfonamido-kappa N](triphenylphosphine-kappa P)gold(I)\tCrystallography\tBLACKWELL MUNKSGAARD\tJ\tahmad s, 2002, transit metal chem, v27, p177, doi 10.1023/a:1013920208168;baenziger nc, 1976, inorg chem, v15, p1807, doi 10.1021/ic50162a014;baenziger nc, 1983, acta crystallogr c, v39, p1620, doi 10.1107/s0108270183009506;farrugia l.j., 1997, j appl crystallogr, v30, p565, doi doi 10.1107/s0021889897003117;gutierrez l, 2001, inorg chem, v40, p3089, doi 10.1021/ic000869i;kokila mk, 1995, acta crystallogr c, v51, p333, doi 10.1107/s0108270193014180;shaw cf, 1999, chem rev, v99, p2589, doi 10.1021/cr980431o;yuan rx, 2001, j chem soc dalton, p774, doi 10.1039/b100901j\""
       ]
      },
      {
       "html": [
        "<pre>PROGRESS: Unable to parse line \"WOS:000168206800013\t10.1107/S0108270100020254\tScarpellini, M;  Neves, A;  Bortoluzzi, AJ;  Joussef, AC\tArticle\t2001\tEnglish\t[2-(imidazol-4-yl)ethylamine]-{[2-(imidazol-4-yl)ethyl][(1-methyl-imidaz ol-2-yl)methyl]amine}copper(II) diperchlorate\tCrystallography\tMUNKSGAARD INT PUBL LTD\tJ\tchen s, 1994, inorg chem, v33, p2376, doi 10.1021/ic00089a012;colacio e, 1998, inorg chem, v37, p3040, doi 10.1021/ic970992i;doman tn, 1989, inorg chim acta, v159, p219, doi 10.1016/s0020-1693(00)80570-8;hegg el, 1998, coordin chem rev, v173, p133, doi 10.1016/s0010-8545(98)00157-x;liu cl, 1999, j inorg biochem, v75, p233, doi 10.1016/s0162-0134(99)00037-9;oberhausen kj, 1990, inorg chim acta, v173, p145, doi 10.1016/s0020-1693(00)80206-6;oberhausen kj, 1989, polyhedron, v8, p659, doi 10.1016/s0277-5387(00)83829-2;place c, 1998, inorg chem, v37, p4030, doi 10.1021/ic9715660;sigman ds, 1990, biochemistry-us, v29, p9097, doi 10.1021/bi00491a001;sorrell tn, 1989, tetrahedron, v45, p3, doi 10.1016/0040-4020(89)80033-x;vencato i, 1998, acta crystallogr c, v54, p97, doi 10.1107/s0108270197010202\"</pre>"
       ],
       "metadata": {},
       "output_type": "display_data",
       "text": [
        "PROGRESS: Unable to parse line \"WOS:000168206800013\t10.1107/S0108270100020254\tScarpellini, M;  Neves, A;  Bortoluzzi, AJ;  Joussef, AC\tArticle\t2001\tEnglish\t[2-(imidazol-4-yl)ethylamine]-{[2-(imidazol-4-yl)ethyl][(1-methyl-imidaz ol-2-yl)methyl]amine}copper(II) diperchlorate\tCrystallography\tMUNKSGAARD INT PUBL LTD\tJ\tchen s, 1994, inorg chem, v33, p2376, doi 10.1021/ic00089a012;colacio e, 1998, inorg chem, v37, p3040, doi 10.1021/ic970992i;doman tn, 1989, inorg chim acta, v159, p219, doi 10.1016/s0020-1693(00)80570-8;hegg el, 1998, coordin chem rev, v173, p133, doi 10.1016/s0010-8545(98)00157-x;liu cl, 1999, j inorg biochem, v75, p233, doi 10.1016/s0162-0134(99)00037-9;oberhausen kj, 1990, inorg chim acta, v173, p145, doi 10.1016/s0020-1693(00)80206-6;oberhausen kj, 1989, polyhedron, v8, p659, doi 10.1016/s0277-5387(00)83829-2;place c, 1998, inorg chem, v37, p4030, doi 10.1021/ic9715660;sigman ds, 1990, biochemistry-us, v29, p9097, doi 10.1021/bi00491a001;sorrell tn, 1989, tetrahedron, v45, p3, doi 10.1016/0040-4020(89)80033-x;vencato i, 1998, acta crystallogr c, v54, p97, doi 10.1107/s0108270197010202\""
       ]
      },
      {
       "html": [
        "<pre>PROGRESS: Unable to parse line \"WOS:000175570800026\t10.1515/BC.2002.063\tMartinez, GR;  Medeiros, MHG;  Ravanat, JL;  Cadet, J;  Di Mascio, P\tArticle\t2002\tEnglish\t[O-18]-labeled singlet oxygen as a tool for mechanistic studies of 8-oxo-7,8-dihydroguanine oxidative damage: Detection of spiroiminodihydantoin, imidazolone and oxazolone derivatives\tBiochemistry & Molecular Biology\tWALTER DE GRUYTER & CO\tJ\tadam w, 1996, j am chem soc, v118, p9233, doi 10.1021/ja953980+;agnez-lima lf, 2001, nucleic acids res, v29, p2899, doi 10.1093/nar/29.13.2899;berger m, 1990, j liq chromatogr, v13, p929, doi 10.1080/01483919008049222;breen ap, 1995, free radical bio med, v18, p1033, doi 10.1016/0891-5849(94)00209-3;buchko gw, 1995, bba-gene struct expr, v1263, p17, doi 10.1016/0167-4781(95)00078-u;burney s, 1999, chem res toxicol, v12, p513, doi 10.1021/tx980254m;burrows cj, 1998, chem rev, v98, p1109, doi 10.1021/cr960421s;cadet j, 1994, j am chem soc, v116, p7403, doi 10.1021/ja00095a052;chworos a, 2001, j am chem soc, v123, p5867, doi 10.1021/ja003945p;di mascio p, 1989, j am chem soc, v111, p2909, doi 10.1021/ja00190a027;di mascio p, 1994, febs lett, v355, p287, doi 10.1016/0014-5793(94)01224-5;dougherty tj, 1998, j natl cancer i, v90, p889, doi 10.1093/jnci/90.12.889;duarte v, 1999, nucleic acids res, v27, p496, doi 10.1093/nar/27.2.496;duarte v, 2000, j am chem soc, v122, p12622, doi 10.1021/ja002218r;foote cs, 1991, photochem photobiol, v54, p659, doi 10.1111/j.1751-1097.1991.tb02071.x;goyal rn, 1997, bioelectroch bioener, v43, p105, doi 10.1016/s0302-4598(96)05182-3;held am, 1978, j am chem soc, v100, p5732, doi 10.1021/ja00486a025;hickerson rp, 1999, j am chem soc, v121, p9423, doi 10.1021/ja991929q;kasai h, 1992, j am chem soc, v114, p9692, doi 10.1021/ja00050a078;klotz lo, 1999, eur j biochem, v260, p917, doi 10.1046/j.1432-1327.1999.00255.x;krutmann j, 2000, j dermatol sci, v23, ps22, doi 10.1016/s0923-1811(99)00077-8;luo wc, 2001, chem res toxicol, v14, p927, doi 10.1021/tx010072j;luo wc, 2001, org lett, v3, p2801, doi 10.1021/ol0161763;luo wc, 2000, org lett, v2, p613, doi 10.1021/ol9913643;martinez gr, 2000, j am chem soc, v122, p10212, doi 10.1021/ja0016452;niles jc, 1999, p natl acad sci usa, v96, p11729, doi 10.1073/pnas.96.21.11729;pierlot c, 1996, j photoch photobio b, v36, p31, doi 10.1016/s1011-1344(96)07324-1;raoul s, 1996, j am chem soc, v118, p1892, doi 10.1021/ja952347l;ravanat jl, 1993, j liq chromatogr, v16, p3185, doi 10.1080/10826079308019642;ravanat jl, 2001, helv chim acta, v84, p3702, doi 10.1002/1522-2675(20011219)84:12<3702::aid-hlca3702>3.0.co;ravanat jl, 2000, arch biochem biophys, v374, p118, doi 10.1006/abbi.1999.1610;ravanat jl, 2000, j biol chem, v275, p40601, doi 10.1074/jbc.m006681200;ravanat jl, 1995, chem res toxicol, v8, p379, doi 10.1021/tx00045a009;ryter sw, 1998, free radical bio med, v24, p1520, doi 10.1016/s0891-5849(97)00461-9;saito i, 1985, j am chem soc, v107, p6329, doi 10.1021/ja00308a028;sheu c, 1995, j am chem soc, v117, p6439, doi 10.1021/ja00129a004;sheu cm, 1995, j am chem soc, v117, p474, doi 10.1021/ja00106a054;spassky a, 1997, biochemistry-us, v36, p6571, doi 10.1021/bi962761d;tretyakova ny, 1999, chem res toxicol, v12, p459, doi 10.1021/tx980235c;vialas c, 2000, j am chem soc, v122, p2157, doi 10.1021/ja992860p\"</pre>"
       ],
       "metadata": {},
       "output_type": "display_data",
       "text": [
        "PROGRESS: Unable to parse line \"WOS:000175570800026\t10.1515/BC.2002.063\tMartinez, GR;  Medeiros, MHG;  Ravanat, JL;  Cadet, J;  Di Mascio, P\tArticle\t2002\tEnglish\t[O-18]-labeled singlet oxygen as a tool for mechanistic studies of 8-oxo-7,8-dihydroguanine oxidative damage: Detection of spiroiminodihydantoin, imidazolone and oxazolone derivatives\tBiochemistry & Molecular Biology\tWALTER DE GRUYTER & CO\tJ\tadam w, 1996, j am chem soc, v118, p9233, doi 10.1021/ja953980+;agnez-lima lf, 2001, nucleic acids res, v29, p2899, doi 10.1093/nar/29.13.2899;berger m, 1990, j liq chromatogr, v13, p929, doi 10.1080/01483919008049222;breen ap, 1995, free radical bio med, v18, p1033, doi 10.1016/0891-5849(94)00209-3;buchko gw, 1995, bba-gene struct expr, v1263, p17, doi 10.1016/0167-4781(95)00078-u;burney s, 1999, chem res toxicol, v12, p513, doi 10.1021/tx980254m;burrows cj, 1998, chem rev, v98, p1109, doi 10.1021/cr960421s;cadet j, 1994, j am chem soc, v116, p7403, doi 10.1021/ja00095a052;chworos a, 2001, j am chem soc, v123, p5867, doi 10.1021/ja003945p;di mascio p, 1989, j am chem soc, v111, p2909, doi 10.1021/ja00190a027;di mascio p, 1994, febs lett, v355, p287, doi 10.1016/0014-5793(94)01224-5;dougherty tj, 1998, j natl cancer i, v90, p889, doi 10.1093/jnci/90.12.889;duarte v, 1999, nucleic acids res, v27, p496, doi 10.1093/nar/27.2.496;duarte v, 2000, j am chem soc, v122, p12622, doi 10.1021/ja002218r;foote cs, 1991, photochem photobiol, v54, p659, doi 10.1111/j.1751-1097.1991.tb02071.x;goyal rn, 1997, bioelectroch bioener, v43, p105, doi 10.1016/s0302-4598(96)05182-3;held am, 1978, j am chem soc, v100, p5732, doi 10.1021/ja00486a025;hickerson rp, 1999, j am chem soc, v121, p9423, doi 10.1021/ja991929q;kasai h, 1992, j am chem soc, v114, p9692, doi 10.1021/ja00050a078;klotz lo, 1999, eur j biochem, v260, p917, doi 10.1046/j.1432-1327.1999.00255.x;krutmann j, 2000, j dermatol sci, v23, ps22, doi 10.1016/s0923-1811(99)00077-8;luo wc, 2001, chem res toxicol, v14, p927, doi 10.1021/tx010072j;luo wc, 2001, org lett, v3, p2801, doi 10.1021/ol0161763;luo wc, 2000, org lett, v2, p613, doi 10.1021/ol9913643;martinez gr, 2000, j am chem soc, v122, p10212, doi 10.1021/ja0016452;niles jc, 1999, p natl acad sci usa, v96, p11729, doi 10.1073/pnas.96.21.11729;pierlot c, 1996, j photoch photobio b, v36, p31, doi 10.1016/s1011-1344(96)07324-1;raoul s, 1996, j am chem soc, v118, p1892, doi 10.1021/ja952347l;ravanat jl, 1993, j liq chromatogr, v16, p3185, doi 10.1080/10826079308019642;ravanat jl, 2001, helv chim acta, v84, p3702, doi 10.1002/1522-2675(20011219)84:12<3702::aid-hlca3702>3.0.co;ravanat jl, 2000, arch biochem biophys, v374, p118, doi 10.1006/abbi.1999.1610;ravanat jl, 2000, j biol chem, v275, p40601, doi 10.1074/jbc.m006681200;ravanat jl, 1995, chem res toxicol, v8, p379, doi 10.1021/tx00045a009;ryter sw, 1998, free radical bio med, v24, p1520, doi 10.1016/s0891-5849(97)00461-9;saito i, 1985, j am chem soc, v107, p6329, doi 10.1021/ja00308a028;sheu c, 1995, j am chem soc, v117, p6439, doi 10.1021/ja00129a004;sheu cm, 1995, j am chem soc, v117, p474, doi 10.1021/ja00106a054;spassky a, 1997, biochemistry-us, v36, p6571, doi 10.1021/bi962761d;tretyakova ny, 1999, chem res toxicol, v12, p459, doi 10.1021/tx980235c;vialas c, 2000, j am chem soc, v122, p2157, doi 10.1021/ja992860p\""
       ]
      },
      {
       "html": [
        "<pre>PROGRESS: Unable to parse line \"WOS:000180534500001\t\tLang, ES;  Peppe, C;  Zan, RA;  Abram, U;  Vazquez-Lopez, EM;  Krumm, B;  Ruscitti, OP\tArticle\t2002\tEnglish\t[Hg-8(mu-n-C3H7Te)(12)(mu-Br)Br-3] - Synthesis and structure\tChemistry\tWILEY-V C H VERLAG GMBH\tJ\thaushalter rc, 1985, angew chem int edit, v24, p433, doi 10.1002/anie.198504331;haushalter rc, 1985, angew chem, v97, p414, doi 10.1002/ange.19850970519;kim kw, 1991, inorg chem, v30, p1966, doi 10.1021/ic00009a002\"</pre>"
       ],
       "metadata": {},
       "output_type": "display_data",
       "text": [
        "PROGRESS: Unable to parse line \"WOS:000180534500001\t\tLang, ES;  Peppe, C;  Zan, RA;  Abram, U;  Vazquez-Lopez, EM;  Krumm, B;  Ruscitti, OP\tArticle\t2002\tEnglish\t[Hg-8(mu-n-C3H7Te)(12)(mu-Br)Br-3] - Synthesis and structure\tChemistry\tWILEY-V C H VERLAG GMBH\tJ\thaushalter rc, 1985, angew chem int edit, v24, p433, doi 10.1002/anie.198504331;haushalter rc, 1985, angew chem, v97, p414, doi 10.1002/ange.19850970519;kim kw, 1991, inorg chem, v30, p1966, doi 10.1021/ic00009a002\""
       ]
      },
      {
       "html": [
        "<pre>PROGRESS: Unable to parse line \"WOS:000172926900019\t10.1107/S1600536801021365\tJanczak, J;  Idemori, YM\tArticle\t2002\tEnglish\t[Phthalocyaninato(2-)]arsenic(III) triiodide\tCrystallography\tBLACKWELL MUNKSGAARD\tJ\tfriedel mk, 1970, j chem soc chem comm, p400, doi 10.1039/c29700000400;iyechika y, 1982, acta crystallogr b, v38, p766, doi 10.1107/s056774088200404x;janczak j, 1999, inorg chem, v38, p2429, doi 10.1021/ic9900410;kubiak r, 1999, inorg chim acta, v293, p155, doi 10.1016/s0020-1693(99)00231-5;kubiak r, 1993, j alloy compd, v200, pl7, doi 10.1016/0925-8388(93)90462-v;shannon rd, 1976, acta crystallogr a, v32, p751, doi 10.1107/s0567739476001551;ukei k, 1973, acta crystallogr b, v29, p2290, doi 10.1107/s0567740873006497\"</pre>"
       ],
       "metadata": {},
       "output_type": "display_data",
       "text": [
        "PROGRESS: Unable to parse line \"WOS:000172926900019\t10.1107/S1600536801021365\tJanczak, J;  Idemori, YM\tArticle\t2002\tEnglish\t[Phthalocyaninato(2-)]arsenic(III) triiodide\tCrystallography\tBLACKWELL MUNKSGAARD\tJ\tfriedel mk, 1970, j chem soc chem comm, p400, doi 10.1039/c29700000400;iyechika y, 1982, acta crystallogr b, v38, p766, doi 10.1107/s056774088200404x;janczak j, 1999, inorg chem, v38, p2429, doi 10.1021/ic9900410;kubiak r, 1999, inorg chim acta, v293, p155, doi 10.1016/s0020-1693(99)00231-5;kubiak r, 1993, j alloy compd, v200, pl7, doi 10.1016/0925-8388(93)90462-v;shannon rd, 1976, acta crystallogr a, v32, p751, doi 10.1107/s0567739476001551;ukei k, 1973, acta crystallogr b, v29, p2290, doi 10.1107/s0567740873006497\""
       ]
      },
      {
       "html": [
        "<pre>PROGRESS: Unable to parse line \"WOS:000182748800028\t\tSilva, C;  Iochpe, C;  Engel, P\tArticle; Proceedings Paper\t2002\tEnglish\tApplying the process of knowledge discovery in databases to identify analysis patterns for reuse in geographic database design\tComputer Science\tSPRINGER-VERLAG BERLIN\tS\t[anonymous], 1976, acm t database syst, doi 10.1145/320434.320440\"</pre>"
       ],
       "metadata": {},
       "output_type": "display_data",
       "text": [
        "PROGRESS: Unable to parse line \"WOS:000182748800028\t\tSilva, C;  Iochpe, C;  Engel, P\tArticle; Proceedings Paper\t2002\tEnglish\tApplying the process of knowledge discovery in databases to identify analysis patterns for reuse in geographic database design\tComputer Science\tSPRINGER-VERLAG BERLIN\tS\t[anonymous], 1976, acm t database syst, doi 10.1145/320434.320440\""
       ]
      },
      {
       "html": [
        "<pre>PROGRESS: Unable to parse line \"WOS:000185047100008\t10.1107/S1600536803017008\tMarques, LD;  Lang, ES;  Burrow, RA\tArticle\t2003\tEnglish\t[4-Amino-N-(pyrimidin-2-yl)benzenesulfonamido-kappa N] (triphenylarsine-kappa As)gold(I)\tCrystallography\tBLACKWELL MUNKSGAARD\tJ\taroney mj, 1994, j chem soc dalton, p2827, doi 10.1039/dt9940002827;farrugia l. j., 1999, j appl crystallogr, v32, p837, doi doi 10.1107/s0021889899006020;farrugia l.j., 1997, j appl crystallogr, v30, p565, doi doi 10.1107/s0021889897003117;jones pg, 1977, j chem soc dalton, p1430, doi 10.1039/dt9770001430\"</pre>"
       ],
       "metadata": {},
       "output_type": "display_data",
       "text": [
        "PROGRESS: Unable to parse line \"WOS:000185047100008\t10.1107/S1600536803017008\tMarques, LD;  Lang, ES;  Burrow, RA\tArticle\t2003\tEnglish\t[4-Amino-N-(pyrimidin-2-yl)benzenesulfonamido-kappa N] (triphenylarsine-kappa As)gold(I)\tCrystallography\tBLACKWELL MUNKSGAARD\tJ\taroney mj, 1994, j chem soc dalton, p2827, doi 10.1039/dt9940002827;farrugia l. j., 1999, j appl crystallogr, v32, p837, doi doi 10.1107/s0021889899006020;farrugia l.j., 1997, j appl crystallogr, v30, p565, doi doi 10.1107/s0021889897003117;jones pg, 1977, j chem soc dalton, p1430, doi 10.1039/dt9770001430\""
       ]
      },
      {
       "html": [
        "<pre>PROGRESS: Unable to parse line \"WOS:000165660600002\t10.1016/S0031-9422(00)00335-6\tMatthiensen, A;  Beattie, KA;  Yunes, JS;  Kaya, K;  Codd, GA\tArticle\t2000\tEnglish\t[D-Leu(1)]microcystin-LR, from the cyanobacterium Microcystis RST 9501 and from a Microcystis bloom in the Patos Lagoon estuary, Brazil\tBiochemistry & Molecular Biology; Plant Sciences\tPERGAMON-ELSEVIER SCIENCE LTD\tJ\tbeattie ka, 1998, phytochemistry, v47, p1289, doi 10.1016/s0031-9422(97)00769-3;codd ga, 1999, eur j phycol, v34, p405, doi 10.1017/s0967026299002255;codd ga, 1982, fems microbiol lett, v13, p409, doi 10.1111/j.1574-6968.1982.tb08296.x;craig m, 1993, toxicon, v31, p1541, doi 10.1016/0041-0101(93)90338-j;falconer ian r., 1996, phycologia, v35, p6, doi 10.2216/i0031-8884-35-6s-6.1;lawton linda a., 1995, natural toxins, v3, p50, doi 10.1002/nt.2620030110;mackintosh c, 1990, febs lett, v264, p187, doi 10.1016/0014-5793(90)80245-e;marfey p, 1984, carlsberg res commun, v49, p591, doi 10.1007/bf02908688;rinehart kl, 1994, j appl phycol, v6, p159, doi 10.1007/bf02186070;sivonen k, 1992, chem res toxicol, v5, p464, doi 10.1021/tx00028a003;ward cj, 1997, fems microbiol lett, v153, p465, doi 10.1111/j.1574-6968.1997.tb12611.x;yunes j. s., 1996, journal of aquatic ecosystem health, v5, p223, doi 10.1007/bf00662183\"</pre>"
       ],
       "metadata": {},
       "output_type": "display_data",
       "text": [
        "PROGRESS: Unable to parse line \"WOS:000165660600002\t10.1016/S0031-9422(00)00335-6\tMatthiensen, A;  Beattie, KA;  Yunes, JS;  Kaya, K;  Codd, GA\tArticle\t2000\tEnglish\t[D-Leu(1)]microcystin-LR, from the cyanobacterium Microcystis RST 9501 and from a Microcystis bloom in the Patos Lagoon estuary, Brazil\tBiochemistry & Molecular Biology; Plant Sciences\tPERGAMON-ELSEVIER SCIENCE LTD\tJ\tbeattie ka, 1998, phytochemistry, v47, p1289, doi 10.1016/s0031-9422(97)00769-3;codd ga, 1999, eur j phycol, v34, p405, doi 10.1017/s0967026299002255;codd ga, 1982, fems microbiol lett, v13, p409, doi 10.1111/j.1574-6968.1982.tb08296.x;craig m, 1993, toxicon, v31, p1541, doi 10.1016/0041-0101(93)90338-j;falconer ian r., 1996, phycologia, v35, p6, doi 10.2216/i0031-8884-35-6s-6.1;lawton linda a., 1995, natural toxins, v3, p50, doi 10.1002/nt.2620030110;mackintosh c, 1990, febs lett, v264, p187, doi 10.1016/0014-5793(90)80245-e;marfey p, 1984, carlsberg res commun, v49, p591, doi 10.1007/bf02908688;rinehart kl, 1994, j appl phycol, v6, p159, doi 10.1007/bf02186070;sivonen k, 1992, chem res toxicol, v5, p464, doi 10.1021/tx00028a003;ward cj, 1997, fems microbiol lett, v153, p465, doi 10.1111/j.1574-6968.1997.tb12611.x;yunes j. s., 1996, journal of aquatic ecosystem health, v5, p223, doi 10.1007/bf00662183\""
       ]
      },
      {
       "html": [
        "<pre>PROGRESS: Unable to parse line \"WOS:000073436000009\t10.1002/(SICI)1096-9063(199805)53:1<91::AID-PS739>3.0.CO;2-Z\tMano, DMS;  Langenbach, T\tArticle\t1998\tEnglish\t[C-14]Dicofol association to cellular components of Azospirillum lipoferum\tAgriculture; Entomology\tJOHN WILEY & SONS LTD\tJ\tbradford mm, 1976, anal biochem, v72, p248, doi 10.1006/abio.1976.9999;laemmli uk, 1970, nature, v227, p680, doi 10.1038/227680a0;mano dms, 1996, chemosphere, v33, p1609, doi 10.1016/0045-6535(96)00280-9\"</pre>"
       ],
       "metadata": {},
       "output_type": "display_data",
       "text": [
        "PROGRESS: Unable to parse line \"WOS:000073436000009\t10.1002/(SICI)1096-9063(199805)53:1<91::AID-PS739>3.0.CO;2-Z\tMano, DMS;  Langenbach, T\tArticle\t1998\tEnglish\t[C-14]Dicofol association to cellular components of Azospirillum lipoferum\tAgriculture; Entomology\tJOHN WILEY & SONS LTD\tJ\tbradford mm, 1976, anal biochem, v72, p248, doi 10.1006/abio.1976.9999;laemmli uk, 1970, nature, v227, p680, doi 10.1038/227680a0;mano dms, 1996, chemosphere, v33, p1609, doi 10.1016/0045-6535(96)00280-9\""
       ]
      },
      {
       "html": [
        "<pre>PROGRESS: Read 42821 lines. Lines per second: 15498.6</pre>"
       ],
       "metadata": {},
       "output_type": "display_data",
       "text": [
        "PROGRESS: Read 42821 lines. Lines per second: 15498.6"
       ]
      },
      {
       "html": [
        "<pre>PROGRESS: Read 192948 lines. Lines per second: 22586.8</pre>"
       ],
       "metadata": {},
       "output_type": "display_data",
       "text": [
        "PROGRESS: Read 192948 lines. Lines per second: 22586.8"
       ]
      },
      {
       "html": [
        "<pre>PROGRESS: Read 339507 lines. Lines per second: 24335.7</pre>"
       ],
       "metadata": {},
       "output_type": "display_data",
       "text": [
        "PROGRESS: Read 339507 lines. Lines per second: 24335.7"
       ]
      },
      {
       "html": [
        "<pre>PROGRESS: 189 lines failed to parse correctly</pre>"
       ],
       "metadata": {},
       "output_type": "display_data",
       "text": [
        "PROGRESS: 189 lines failed to parse correctly"
       ]
      },
      {
       "html": [
        "<pre>PROGRESS: Finished parsing file /Users/tutu/personal/git/data/wos_selected.csv</pre>"
       ],
       "metadata": {},
       "output_type": "display_data",
       "text": [
        "PROGRESS: Finished parsing file /Users/tutu/personal/git/data/wos_selected.csv"
       ]
      },
      {
       "html": [
        "<pre>PROGRESS: Parsing completed. Parsed 356525 lines in 14.6004 secs.</pre>"
       ],
       "metadata": {},
       "output_type": "display_data",
       "text": [
        "PROGRESS: Parsing completed. Parsed 356525 lines in 14.6004 secs."
       ]
      }
     ],
     "prompt_number": 2
    },
    {
     "cell_type": "code",
     "collapsed": false,
     "input": [
      "data.head(3)"
     ],
     "language": "python",
     "metadata": {},
     "outputs": [
      {
       "html": [
        "<div style=\"max-height:1000px;max-width:1500px;overflow:auto;\"><table frame=\"box\" rules=\"cols\">\n",
        "    <tr>\n",
        "        <th style=\"padding-left: 1em; padding-right: 1em; text-align: center\">wos_id</th>\n",
        "        <th style=\"padding-left: 1em; padding-right: 1em; text-align: center\">doi</th>\n",
        "        <th style=\"padding-left: 1em; padding-right: 1em; text-align: center\">authors</th>\n",
        "        <th style=\"padding-left: 1em; padding-right: 1em; text-align: center\">type</th>\n",
        "        <th style=\"padding-left: 1em; padding-right: 1em; text-align: center\">year</th>\n",
        "        <th style=\"padding-left: 1em; padding-right: 1em; text-align: center\">language</th>\n",
        "    </tr>\n",
        "    <tr>\n",
        "        <td style=\"padding-left: 1em; padding-right: 1em; text-align: center; vertical-align: top\">WOS:000182822300066</td>\n",
        "        <td style=\"padding-left: 1em; padding-right: 1em; text-align: center; vertical-align: top\">10.1063/1.1557355</td>\n",
        "        <td style=\"padding-left: 1em; padding-right: 1em; text-align: center; vertical-align: top\">Cornejo, DR;  Azevedo, A;<br>Rezende, SM</td>\n",
        "        <td style=\"padding-left: 1em; padding-right: 1em; text-align: center; vertical-align: top\">Article; Proceedings<br>Paper</td>\n",
        "        <td style=\"padding-left: 1em; padding-right: 1em; text-align: center; vertical-align: top\">2003</td>\n",
        "        <td style=\"padding-left: 1em; padding-right: 1em; text-align: center; vertical-align: top\">English</td>\n",
        "    </tr>\n",
        "    <tr>\n",
        "        <td style=\"padding-left: 1em; padding-right: 1em; text-align: center; vertical-align: top\">WOS:000182822300093</td>\n",
        "        <td style=\"padding-left: 1em; padding-right: 1em; text-align: center; vertical-align: top\">10.1063/1.1555154</td>\n",
        "        <td style=\"padding-left: 1em; padding-right: 1em; text-align: center; vertical-align: top\">Tedesco, AC;  Oliveira,<br>DM;  Lacava, ZGM; ...</td>\n",
        "        <td style=\"padding-left: 1em; padding-right: 1em; text-align: center; vertical-align: top\">Article; Proceedings<br>Paper</td>\n",
        "        <td style=\"padding-left: 1em; padding-right: 1em; text-align: center; vertical-align: top\">2003</td>\n",
        "        <td style=\"padding-left: 1em; padding-right: 1em; text-align: center; vertical-align: top\">English</td>\n",
        "    </tr>\n",
        "    <tr>\n",
        "        <td style=\"padding-left: 1em; padding-right: 1em; text-align: center; vertical-align: top\">WOS:000182822300094</td>\n",
        "        <td style=\"padding-left: 1em; padding-right: 1em; text-align: center; vertical-align: top\">10.1063/1.1558665</td>\n",
        "        <td style=\"padding-left: 1em; padding-right: 1em; text-align: center; vertical-align: top\">Kuckelhaus, S;  Garcia,<br>VAP;  Lacava, LM; ...</td>\n",
        "        <td style=\"padding-left: 1em; padding-right: 1em; text-align: center; vertical-align: top\">Article; Proceedings<br>Paper</td>\n",
        "        <td style=\"padding-left: 1em; padding-right: 1em; text-align: center; vertical-align: top\">2003</td>\n",
        "        <td style=\"padding-left: 1em; padding-right: 1em; text-align: center; vertical-align: top\">English</td>\n",
        "    </tr>\n",
        "</table>\n",
        "<table frame=\"box\" rules=\"cols\">\n",
        "    <tr>\n",
        "        <th style=\"padding-left: 1em; padding-right: 1em; text-align: center\">title</th>\n",
        "        <th style=\"padding-left: 1em; padding-right: 1em; text-align: center\">area</th>\n",
        "        <th style=\"padding-left: 1em; padding-right: 1em; text-align: center\">publisher</th>\n",
        "        <th style=\"padding-left: 1em; padding-right: 1em; text-align: center\">publisher_type</th>\n",
        "        <th style=\"padding-left: 1em; padding-right: 1em; text-align: center\">citations</th>\n",
        "    </tr>\n",
        "    <tr>\n",
        "        <td style=\"padding-left: 1em; padding-right: 1em; text-align: center; vertical-align: top\">Hysteresis modeling of<br>anisotropic and isotr ...</td>\n",
        "        <td style=\"padding-left: 1em; padding-right: 1em; text-align: center; vertical-align: top\">Physics</td>\n",
        "        <td style=\"padding-left: 1em; padding-right: 1em; text-align: center; vertical-align: top\">AMER INST PHYSICS</td>\n",
        "        <td style=\"padding-left: 1em; padding-right: 1em; text-align: center; vertical-align: top\">J</td>\n",
        "        <td style=\"padding-left: 1em; padding-right: 1em; text-align: center; vertical-align: top\">cornejo dr, 2000, j appl<br>phys, v87, p4741, doi ...</td>\n",
        "    </tr>\n",
        "    <tr>\n",
        "        <td style=\"padding-left: 1em; padding-right: 1em; text-align: center; vertical-align: top\">Determination of binding<br>constant K-b of ...</td>\n",
        "        <td style=\"padding-left: 1em; padding-right: 1em; text-align: center; vertical-align: top\">Physics</td>\n",
        "        <td style=\"padding-left: 1em; padding-right: 1em; text-align: center; vertical-align: top\">AMER INST PHYSICS</td>\n",
        "        <td style=\"padding-left: 1em; padding-right: 1em; text-align: center; vertical-align: top\">J</td>\n",
        "        <td style=\"padding-left: 1em; padding-right: 1em; text-align: center; vertical-align: top\">aveline bm, 1995, j<br>photoch photobio b, v ...</td>\n",
        "    </tr>\n",
        "    <tr>\n",
        "        <td style=\"padding-left: 1em; padding-right: 1em; text-align: center; vertical-align: top\">Biological investigation<br>of a citrate-coated ...</td>\n",
        "        <td style=\"padding-left: 1em; padding-right: 1em; text-align: center; vertical-align: top\">Physics</td>\n",
        "        <td style=\"padding-left: 1em; padding-right: 1em; text-align: center; vertical-align: top\">AMER INST PHYSICS</td>\n",
        "        <td style=\"padding-left: 1em; padding-right: 1em; text-align: center; vertical-align: top\">J</td>\n",
        "        <td style=\"padding-left: 1em; padding-right: 1em; text-align: center; vertical-align: top\">fahlvik ak, 1993, jmri-j<br>magn reson im, v3, p1 ...</td>\n",
        "    </tr>\n",
        "</table>\n",
        "[3 rows x 11 columns]<br/>\n",
        "</div>"
       ],
       "metadata": {},
       "output_type": "pyout",
       "prompt_number": 4,
       "text": [
        "Columns:\n",
        "\twos_id\tstr\n",
        "\tdoi\tstr\n",
        "\tauthors\tstr\n",
        "\ttype\tstr\n",
        "\tyear\tstr\n",
        "\tlanguage\tstr\n",
        "\ttitle\tstr\n",
        "\tarea\tstr\n",
        "\tpublisher\tstr\n",
        "\tpublisher_type\tstr\n",
        "\tcitations\tstr\n",
        "\n",
        "Rows: 3\n",
        "\n",
        "Data:\n",
        "+---------------------+-------------------+--------------------------------+\n",
        "|        wos_id       |        doi        |            authors             |\n",
        "+---------------------+-------------------+--------------------------------+\n",
        "| WOS:000182822300066 | 10.1063/1.1557355 | Cornejo, DR;  Azevedo, A;  ... |\n",
        "| WOS:000182822300093 | 10.1063/1.1555154 | Tedesco, AC;  Oliveira, DM ... |\n",
        "| WOS:000182822300094 | 10.1063/1.1558665 | Kuckelhaus, S;  Garcia, VA ... |\n",
        "+---------------------+-------------------+--------------------------------+\n",
        "+----------------------------+------+----------+--------------------------------+\n",
        "|            type            | year | language |             title              |\n",
        "+----------------------------+------+----------+--------------------------------+\n",
        "| Article; Proceedings Paper | 2003 | English  | Hysteresis modeling of ani ... |\n",
        "| Article; Proceedings Paper | 2003 | English  | Determination of binding c ... |\n",
        "| Article; Proceedings Paper | 2003 | English  | Biological investigation o ... |\n",
        "+----------------------------+------+----------+--------------------------------+\n",
        "+---------+-------------------+----------------+--------------------------------+\n",
        "|   area  |     publisher     | publisher_type |           citations            |\n",
        "+---------+-------------------+----------------+--------------------------------+\n",
        "| Physics | AMER INST PHYSICS |       J        | cornejo dr, 2000, j appl p ... |\n",
        "| Physics | AMER INST PHYSICS |       J        | aveline bm, 1995, j photoc ... |\n",
        "| Physics | AMER INST PHYSICS |       J        | fahlvik ak, 1993, jmri-j m ... |\n",
        "+---------+-------------------+----------------+--------------------------------+\n",
        "[3 rows x 11 columns]"
       ]
      }
     ],
     "prompt_number": 4
    },
    {
     "cell_type": "code",
     "collapsed": false,
     "input": [
      "content = []\n",
      "for row in data:\n",
      "    authors = str(row['authors']).split(';')\n",
      "    citations = str(row['citations']).split(';')\n",
      "    for author in authors:\n",
      "        tmp = author.strip().lower().replace(',', '')\n",
      "        for cited in citations:\n",
      "            if 'doi' in cited:\n",
      "                content.append({'author': tmp, 'reference': cited.split('doi')[1].strip(), 'score': 1})\n",
      "            else:\n",
      "                content.append({'author': tmp, 'reference': cited.strip(), 'score': 1})\n",
      "len(content)"
     ],
     "language": "python",
     "metadata": {},
     "outputs": []
    },
    {
     "cell_type": "code",
     "collapsed": false,
     "input": [],
     "language": "python",
     "metadata": {},
     "outputs": []
    },
    {
     "cell_type": "code",
     "collapsed": false,
     "input": [],
     "language": "python",
     "metadata": {},
     "outputs": []
    }
   ],
   "metadata": {}
  }
 ]
}